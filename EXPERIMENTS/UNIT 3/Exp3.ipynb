{
 "cells": [
  {
   "cell_type": "code",
   "execution_count": 1,
   "metadata": {},
   "outputs": [],
   "source": [
    "import numpy as np"
   ]
  },
  {
   "cell_type": "code",
   "execution_count": 2,
   "metadata": {},
   "outputs": [],
   "source": [
    "arr1 = np.array([1,2,3,4])\n",
    "arr2 = np.array([5,6,7,8])"
   ]
  },
  {
   "cell_type": "code",
   "execution_count": 3,
   "metadata": {},
   "outputs": [
    {
     "name": "stdout",
     "output_type": "stream",
     "text": [
      "Addition: [ 6  8 10 12]\n",
      "Subtraction: [-4 -4 -4 -4]\n",
      "Multiplication: [ 5 12 21 32]\n",
      "Mean: 2.5\n"
     ]
    }
   ],
   "source": [
    "print(\"Addition:\",np.add(arr1,arr2))\n",
    "print(\"Subtraction:\",np.subtract(arr1,arr2))\n",
    "print(\"Multiplication:\",np.multiply(arr1,arr2))\n",
    "print(\"Mean:\",np.mean(arr1))"
   ]
  },
  {
   "cell_type": "code",
   "execution_count": 4,
   "metadata": {},
   "outputs": [
    {
     "name": "stdout",
     "output_type": "stream",
     "text": [
      "Logarithm: [0.         0.69314718 1.09861229 1.38629436 1.60943791]\n",
      "Sin: [ 0.84147098  0.90929743  0.14112001 -0.7568025  -0.95892427]\n",
      "Square root: [1.         1.41421356 1.73205081 2.         2.23606798]\n",
      "Floor: [1. 1. 1. 2. 2.]\n"
     ]
    }
   ],
   "source": [
    "a = np.array([1,2,3,4,5])\n",
    "print('Logarithm:',np.log(a))\n",
    "print('Sin:',np.sin(a))\n",
    "a = np.sqrt(a)\n",
    "print(\"Square root:\",a)\n",
    "print(\"Floor:\",np.floor(a))"
   ]
  }
 ],
 "metadata": {
  "kernelspec": {
   "display_name": "Python 3",
   "language": "python",
   "name": "python3"
  },
  "language_info": {
   "codemirror_mode": {
    "name": "ipython",
    "version": 3
   },
   "file_extension": ".py",
   "mimetype": "text/x-python",
   "name": "python",
   "nbconvert_exporter": "python",
   "pygments_lexer": "ipython3",
   "version": "3.12.1"
  }
 },
 "nbformat": 4,
 "nbformat_minor": 2
}
