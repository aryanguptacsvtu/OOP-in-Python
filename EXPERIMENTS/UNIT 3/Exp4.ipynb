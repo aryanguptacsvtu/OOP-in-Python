{
 "cells": [
  {
   "cell_type": "code",
   "execution_count": 1,
   "metadata": {},
   "outputs": [],
   "source": [
    "import numpy as np"
   ]
  },
  {
   "cell_type": "code",
   "execution_count": 2,
   "metadata": {},
   "outputs": [
    {
     "name": "stdout",
     "output_type": "stream",
     "text": [
      "Data:\n",
      " [[ 1.  2.  3.  4.]\n",
      " [ 5.  6.  7.  8.]\n",
      " [ 9. 10. 11. 12.]]\n"
     ]
    }
   ],
   "source": [
    "data = np.genfromtxt('data.csv',delimiter=',',skip_header=1)\n",
    "print(\"Data:\\n\",data)"
   ]
  },
  {
   "cell_type": "code",
   "execution_count": 3,
   "metadata": {},
   "outputs": [
    {
     "name": "stdout",
     "output_type": "stream",
     "text": [
      "Mean of each column: [5. 6. 7. 8.]\n",
      "Standard deviation of each row: [1.11803399 1.11803399 1.11803399]\n"
     ]
    }
   ],
   "source": [
    "print(\"Mean of each column:\",np.mean(data,axis=0))\n",
    "print(\"Standard deviation of each row:\",np.std(data,axis=1))"
   ]
  },
  {
   "cell_type": "code",
   "execution_count": 4,
   "metadata": {},
   "outputs": [
    {
     "name": "stdout",
     "output_type": "stream",
     "text": [
      "Comparison with 5:\n",
      " [[False False False False]\n",
      " [False  True  True  True]\n",
      " [ True  True  True  True]]\n",
      "\n",
      "Elements greater than 5:\n",
      " [ 6.  7.  8.  9. 10. 11. 12.]\n"
     ]
    }
   ],
   "source": [
    "comparison = data>5\n",
    "print('Comparison with 5:\\n',comparison)\n",
    "print('\\nElements greater than 5:\\n',data[data>5])"
   ]
  },
  {
   "cell_type": "code",
   "execution_count": 5,
   "metadata": {},
   "outputs": [
    {
     "name": "stdout",
     "output_type": "stream",
     "text": [
      "Sum of each column: [15. 18. 21. 24.]\n",
      "Sum of each row: [10. 26. 42.]\n"
     ]
    }
   ],
   "source": [
    "print('Sum of each column:',np.sum(data,axis=0))\n",
    "print('Sum of each row:',np.sum(data,axis=1))"
   ]
  }
 ],
 "metadata": {
  "kernelspec": {
   "display_name": "Python 3",
   "language": "python",
   "name": "python3"
  },
  "language_info": {
   "codemirror_mode": {
    "name": "ipython",
    "version": 3
   },
   "file_extension": ".py",
   "mimetype": "text/x-python",
   "name": "python",
   "nbconvert_exporter": "python",
   "pygments_lexer": "ipython3",
   "version": "3.12.1"
  }
 },
 "nbformat": 4,
 "nbformat_minor": 2
}
