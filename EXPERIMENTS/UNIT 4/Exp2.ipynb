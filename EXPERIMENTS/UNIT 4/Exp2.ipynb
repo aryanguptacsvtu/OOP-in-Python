{
 "cells": [
  {
   "cell_type": "code",
   "execution_count": 1,
   "metadata": {},
   "outputs": [],
   "source": [
    "import pandas as pd"
   ]
  },
  {
   "cell_type": "code",
   "execution_count": 2,
   "metadata": {},
   "outputs": [],
   "source": [
    "data = {'Name':['Alice','Bob','Charlie','David','Eva'],\n",
    "        'Age':[30,25,35,40,28],\n",
    "        'City':['NewYork','LA','Chicago','Spain','NewYork'],\n",
    "        'Salary':[70000,55000,80000,95000,62000]}\n",
    "\n",
    "df = pd.DataFrame(data)"
   ]
  },
  {
   "cell_type": "code",
   "execution_count": 3,
   "metadata": {},
   "outputs": [],
   "source": [
    "df.to_csv('CSV_File')\n",
    "a = pd.read_csv('CSV_File')"
   ]
  },
  {
   "cell_type": "code",
   "execution_count": 4,
   "metadata": {},
   "outputs": [
    {
     "name": "stdout",
     "output_type": "stream",
     "text": [
      "First 10 records:\n",
      "    Unnamed: 0     Name  Age     City  Salary\n",
      "0           0    Alice   30  NewYork   70000\n",
      "1           1      Bob   25       LA   55000\n",
      "2           2  Charlie   35  Chicago   80000\n",
      "3           3    David   40    Spain   95000\n",
      "4           4      Eva   28  NewYork   62000\n",
      "Last 10 records:\n",
      "    Unnamed: 0     Name  Age     City  Salary\n",
      "0           0    Alice   30  NewYork   70000\n",
      "1           1      Bob   25       LA   55000\n",
      "2           2  Charlie   35  Chicago   80000\n",
      "3           3    David   40    Spain   95000\n",
      "4           4      Eva   28  NewYork   62000\n"
     ]
    }
   ],
   "source": [
    "print(\"First 10 records:\\n\",a.head(10))\n",
    "print(\"Last 10 records:\\n\",a.tail(10))"
   ]
  },
  {
   "cell_type": "code",
   "execution_count": 5,
   "metadata": {},
   "outputs": [
    {
     "name": "stdout",
     "output_type": "stream",
     "text": [
      "Shape: (5, 5)\n",
      "Index: RangeIndex(start=0, stop=5, step=1)\n",
      "Column: Index(['Unnamed: 0', 'Name', 'Age', 'City', 'Salary'], dtype='object')\n"
     ]
    }
   ],
   "source": [
    "print(\"Shape:\",a.shape)\n",
    "print(\"Index:\",a.index)\n",
    "print(\"Column:\",a.columns)"
   ]
  },
  {
   "cell_type": "code",
   "execution_count": 6,
   "metadata": {},
   "outputs": [
    {
     "name": "stdout",
     "output_type": "stream",
     "text": [
      "Selected data:\n",
      "    Unnamed: 0     Name  Age     City  Salary\n",
      "2           2  Charlie   35  Chicago   80000\n",
      "3           3    David   40    Spain   95000\n",
      "Deleted data:\n",
      "    Unnamed: 0     Name  Age  Salary\n",
      "0           0    Alice   30   70000\n",
      "1           1      Bob   25   55000\n",
      "2           2  Charlie   35   80000\n",
      "3           3    David   40   95000\n",
      "4           4      Eva   28   62000\n"
     ]
    }
   ],
   "source": [
    "print(\"Selected data:\\n\",a[a['Age']>30])\n",
    "print(\"Deleted data:\\n\",a.drop(columns='City'))"
   ]
  },
  {
   "cell_type": "code",
   "execution_count": 7,
   "metadata": {},
   "outputs": [
    {
     "name": "stdout",
     "output_type": "stream",
     "text": [
      "   Unnamed: 0     Name  Age     City  Salary  SalaryRank\n",
      "0           0    Alice   30  NewYork   70000         3.0\n",
      "1           1      Bob   25       LA   55000         5.0\n",
      "2           2  Charlie   35  Chicago   80000         2.0\n",
      "3           3    David   40    Spain   95000         1.0\n",
      "4           4      Eva   28  NewYork   62000         4.0\n"
     ]
    }
   ],
   "source": [
    "a['SalaryRank'] = a['Salary'].rank(ascending=False)\n",
    "print(a)"
   ]
  },
  {
   "cell_type": "code",
   "execution_count": 8,
   "metadata": {},
   "outputs": [
    {
     "name": "stdout",
     "output_type": "stream",
     "text": [
      "Sorting:\n",
      "    Unnamed: 0     Name  Age     City  Salary  SalaryRank\n",
      "1           1      Bob   25       LA   55000         5.0\n",
      "4           4      Eva   28  NewYork   62000         4.0\n",
      "0           0    Alice   30  NewYork   70000         3.0\n",
      "2           2  Charlie   35  Chicago   80000         2.0\n",
      "3           3    David   40    Spain   95000         1.0\n"
     ]
    }
   ],
   "source": [
    "print(\"Sorting:\\n\",a.sort_values(by='Age'))"
   ]
  },
  {
   "cell_type": "code",
   "execution_count": 9,
   "metadata": {},
   "outputs": [
    {
     "name": "stdout",
     "output_type": "stream",
     "text": [
      "Mean Salary: 72400.0\n",
      "Median Salary: 70000.0\n"
     ]
    }
   ],
   "source": [
    "print(\"Mean Salary:\",a['Salary'].mean())\n",
    "print(\"Median Salary:\",a['Salary'].median())"
   ]
  },
  {
   "cell_type": "code",
   "execution_count": 10,
   "metadata": {},
   "outputs": [
    {
     "name": "stdout",
     "output_type": "stream",
     "text": [
      "City count: City\n",
      "NewYork    2\n",
      "LA         1\n",
      "Chicago    1\n",
      "Spain      1\n",
      "Name: count, dtype: int64\n",
      "Unique Cities: ['NewYork' 'LA' 'Chicago' 'Spain']\n"
     ]
    }
   ],
   "source": [
    "print(\"City count:\",a['City'].value_counts())\n",
    "print(\"Unique Cities:\",a['City'].unique())"
   ]
  },
  {
   "cell_type": "code",
   "execution_count": 11,
   "metadata": {},
   "outputs": [
    {
     "name": "stdout",
     "output_type": "stream",
     "text": [
      "Renaming:\n",
      "    Unnamed: 0     Name  EmpAge     City  EmpSalary  SalaryRank\n",
      "0           0    Alice      30  NewYork      70000         3.0\n",
      "1           1      Bob      25       LA      55000         5.0\n",
      "2           2  Charlie      35  Chicago      80000         2.0\n",
      "3           3    David      40    Spain      95000         1.0\n",
      "4           4      Eva      28  NewYork      62000         4.0\n"
     ]
    }
   ],
   "source": [
    "print(\"Renaming:\\n\",a.rename(columns={'Age':'EmpAge','Salary':'EmpSalary'}))"
   ]
  }
 ],
 "metadata": {
  "kernelspec": {
   "display_name": "Python 3",
   "language": "python",
   "name": "python3"
  },
  "language_info": {
   "codemirror_mode": {
    "name": "ipython",
    "version": 3
   },
   "file_extension": ".py",
   "mimetype": "text/x-python",
   "name": "python",
   "nbconvert_exporter": "python",
   "pygments_lexer": "ipython3",
   "version": "3.12.1"
  }
 },
 "nbformat": 4,
 "nbformat_minor": 2
}
