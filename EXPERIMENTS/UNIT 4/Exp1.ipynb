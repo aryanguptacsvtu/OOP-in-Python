{
 "cells": [
  {
   "cell_type": "code",
   "execution_count": 1,
   "metadata": {},
   "outputs": [],
   "source": [
    "import pandas as pd"
   ]
  },
  {
   "cell_type": "code",
   "execution_count": 2,
   "metadata": {},
   "outputs": [
    {
     "name": "stdout",
     "output_type": "stream",
     "text": [
      "Ind     1000\n",
      "Aus     2000\n",
      "NewZ    3000\n",
      "USA     4000\n",
      "dtype: int64\n"
     ]
    }
   ],
   "source": [
    "country =['Ind','Aus','NewZ','USA']\n",
    "cost = [1000,2000,3000,4000]            # Creating Series using 'List'\n",
    "sales = pd.Series(cost,index=country)\n",
    "print(sales)"
   ]
  },
  {
   "cell_type": "code",
   "execution_count": 3,
   "metadata": {},
   "outputs": [
    {
     "name": "stdout",
     "output_type": "stream",
     "text": [
      "Ind     1000\n",
      "Aus     2000\n",
      "NewZ    3000\n",
      "dtype: int64\n"
     ]
    }
   ],
   "source": [
    "data = {'Ind':1000,'Aus':2000,'NewZ':3000}\n",
    "s= pd.Series(data)                     # Creating Series using 'Dictionary'\n",
    "print(s)"
   ]
  },
  {
   "cell_type": "code",
   "execution_count": 4,
   "metadata": {},
   "outputs": [
    {
     "name": "stdout",
     "output_type": "stream",
     "text": [
      "   A  B\n",
      "0  2  3\n",
      "1  3  4\n",
      "2  4  5\n",
      "3  5  6\n"
     ]
    }
   ],
   "source": [
    "df1 = pd.DataFrame([[2,3],[3,4],[4,5],[5,6]],columns=list('AB'))\n",
    "print(df1)                              # Creating DataFrame using 'List'"
   ]
  },
  {
   "cell_type": "code",
   "execution_count": 5,
   "metadata": {},
   "outputs": [
    {
     "name": "stdout",
     "output_type": "stream",
     "text": [
      "    Name  Marks\n",
      "1  ankit     12\n",
      "2   aadi     23\n"
     ]
    }
   ],
   "source": [
    "sample = {'Name':['ankit','aadi'],'Marks':[12,23]}\n",
    "df2 = pd.DataFrame(sample,index=[1,2])    # Creating DataFrame using 'Dictionary'\n",
    "print(df2)"
   ]
  }
 ],
 "metadata": {
  "kernelspec": {
   "display_name": "Python 3",
   "language": "python",
   "name": "python3"
  },
  "language_info": {
   "codemirror_mode": {
    "name": "ipython",
    "version": 3
   },
   "file_extension": ".py",
   "mimetype": "text/x-python",
   "name": "python",
   "nbconvert_exporter": "python",
   "pygments_lexer": "ipython3",
   "version": "3.12.1"
  }
 },
 "nbformat": 4,
 "nbformat_minor": 2
}
